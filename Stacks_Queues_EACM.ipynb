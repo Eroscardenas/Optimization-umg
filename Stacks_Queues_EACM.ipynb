{
  "cells": [
    {
      "cell_type": "markdown",
      "metadata": {
        "id": "view-in-github",
        "colab_type": "text"
      },
      "source": [
        "<a href=\"https://colab.research.google.com/github/Eroscardenas/Optimization-umg/blob/main/Stacks_Queues_EACM.ipynb\" target=\"_parent\"><img src=\"https://colab.research.google.com/assets/colab-badge.svg\" alt=\"Open In Colab\"/></a>"
      ]
    },
    {
      "cell_type": "code",
      "execution_count": 1,
      "metadata": {
        "colab": {
          "base_uri": "https://localhost:8080/"
        },
        "id": "WW656qoUdJQ2",
        "outputId": "245e2362-102a-4568-ae9e-e9b9f99a3142"
      },
      "outputs": [
        {
          "output_type": "stream",
          "name": "stdout",
          "text": [
            "How many stacks do you want to create? 3\n",
            "3 stacks have been created successfully.\n"
          ]
        }
      ],
      "source": [
        "import numpy as np\n",
        "\n",
        "# Ask the user for the number of stacks they want to create\n",
        "num_stacks = int(input(\"How many stacks do you want to create? \"))\n",
        "\n",
        "# Check if the user input is valid (positive number of stacks)\n",
        "if num_stacks <= 1:\n",
        "    print(\"Please enter a positive number of stacks.\")\n",
        "else:\n",
        "    # Initialize an empty array or list of stacks using NP arrays\n",
        "    stacks = [np.array([]) for _ in range(num_stacks)]\n",
        "    # f is a function that allow put variable values in a string\n",
        "    print(f\"{num_stacks} stacks have been created successfully.\")\n",
        "\n",
        "# Boolean Variable thaht allows the program continues\n",
        "running = True\n",
        "\n",
        "#Created by Eros Esaú Cárdenas\n",
        "#░░▄▄▄░░▄▄██████▀\n",
        "#░▀▀██░███████▀▀\n",
        "#░▄█▀░███████▀\n",
        "#██▄▄███████████▄▄\n",
        "#▀█████████████▀\n",
        "\n",
        "\n"
      ]
    },
    {
      "cell_type": "code",
      "source": [
        "import numpy as np\n",
        "\n",
        "# Initialize a variable to control the loop\n",
        "running = True\n",
        "\n",
        "\n",
        "while running:\n",
        "    print(\"Options:\")\n",
        "    print(\"1. Add an element to a stack\")\n",
        "    print(\"2. Show elements from all stacks combined\")\n",
        "    print(\"3. Exit\")\n",
        "\n",
        "    # Ask the user for their choice and convert it to an integer\n",
        "    choice = int(input(\"Select an option: \"))\n",
        "\n",
        "    # Condition to handle the user's choice\n",
        "    if choice == 1:\n",
        "        # Ask the user for the stack number and the element they want to add\n",
        "        stack_number = int(input(f\"Which stack do you want to add an element to (0-{num_stacks - 1})? \"))\n",
        "\n",
        "        # Check if the stack number is valid\n",
        "        if stack_number < 0 or stack_number >= num_stacks:\n",
        "            print(f\"Please enter a number between 0 and {num_stacks - 1}.\")\n",
        "            continue\n",
        "\n",
        "        # Ask the user for the element to add as an integer\n",
        "        element = int(input(\"Enter the element you want to add: \"))\n",
        "\n",
        "        # Add the element to the selected stack using the NumPy append() function\n",
        "        stacks[stack_number] = np.append(stacks[stack_number], element)\n",
        "        print(f\"Element {element} added to stack {stack_number}.\")\n",
        "\n",
        "    elif choice == 2:\n",
        "        # Show elements from all stacks combined in a combined array\n",
        "        combined_array = np.concatenate(stacks)\n",
        "        print(\"Elements in all stacks combined:\")\n",
        "        print(combined_array)\n",
        "\n",
        "    elif choice == 3:\n",
        "        # Change the value of the boolean to exit the loop\n",
        "        running = False\n",
        "\n",
        "    else:\n",
        "        print(\"Invalid option. Please select a valid option.\")\n",
        "\n",
        "\n",
        "#Created by Eros Esaú Cárdenas\n",
        "#░░▄▄▄░░▄▄██████▀\n",
        "#░▀▀██░███████▀▀\n",
        "#░▄█▀░███████▀\n",
        "#██▄▄███████████▄▄\n",
        "#▀█████████████▀\n"
      ],
      "metadata": {
        "colab": {
          "base_uri": "https://localhost:8080/"
        },
        "id": "0myh7xu4Twiu",
        "outputId": "8a9cdbc9-dd53-4439-cffe-23162d305a67"
      },
      "execution_count": null,
      "outputs": [
        {
          "output_type": "stream",
          "name": "stdout",
          "text": [
            "Options:\n",
            "1. Add an element to a stack\n",
            "2. Show elements from all stacks combined\n",
            "3. Exit\n"
          ]
        }
      ]
    }
  ],
  "metadata": {
    "colab": {
      "provenance": [],
      "authorship_tag": "ABX9TyNxYF7IQiOyAx1F2RDr6qFU",
      "include_colab_link": true
    },
    "kernelspec": {
      "display_name": "Python 3",
      "name": "python3"
    },
    "language_info": {
      "name": "python"
    }
  },
  "nbformat": 4,
  "nbformat_minor": 0
}
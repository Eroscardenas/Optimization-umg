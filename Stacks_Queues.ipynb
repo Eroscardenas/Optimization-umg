{
  "cells": [
    {
      "cell_type": "markdown",
      "metadata": {
        "id": "view-in-github",
        "colab_type": "text"
      },
      "source": [
        "<a href=\"https://colab.research.google.com/github/Eroscardenas/Optimization-umg/blob/main/Stacks_Queues.ipynb\" target=\"_parent\"><img src=\"https://colab.research.google.com/assets/colab-badge.svg\" alt=\"Open In Colab\"/></a>"
      ]
    },
    {
      "cell_type": "code",
      "execution_count": null,
      "metadata": {
        "id": "WW656qoUdJQ2"
      },
      "outputs": [],
      "source": [
        "import numpy as np\n",
        "\n",
        "# Ask the user for the number of stacks they want to create\n",
        "n_stacks = int(input(\"How many stacks do you want to create? \"))\n",
        "\n",
        "# Check if the user input is valid (positive number of stacks)\n",
        "if n_stacks <= 1:\n",
        "    print(\"Please enter a positive number of stacks.\")\n",
        "else:\n",
        "    # Initialize an empty array or list of stacks using NP arrays\n",
        "    stacks = [np.array([]) for _ in range(n_stacks)]\n",
        "    # f is a function that allow put variable values in a string\n",
        "    print(f\"{n_stacks} stacks have been created successfully.\")\n",
        "\n",
        "# Boolean Variable thaht allows the program continues\n",
        "run = True\n",
        "\n",
        "#Created by Eros Esaú Cárdenas\n",
        "#░░▄▄▄░░▄▄██████▀\n",
        "#░▀▀██░███████▀▀\n",
        "#░▄█▀░███████▀\n",
        "#██▄▄███████████▄▄\n",
        "#▀█████████████▀\n",
        "\n",
        "\n"
      ]
    },
    {
      "cell_type": "code",
      "execution_count": null,
      "metadata": {
        "id": "0myh7xu4Twiu"
      },
      "outputs": [],
      "source": [
        "import numpy as np\n",
        "\n",
        "# Initialize a variable to control the loop\n",
        "run = True\n",
        "\n",
        "\n",
        "while running:\n",
        "    print(\"Options:\")\n",
        "    print(\"1. Add an element to a stack\")\n",
        "    print(\"2. Show elements from all stacks combined\")\n",
        "    print(\"3. Exit\")\n",
        "\n",
        "    # Ask the user for their choice and convert it to an integer\n",
        "    option = int(input(\"Select an option: \"))\n",
        "\n",
        "    # Condition to handle the user's choice\n",
        "    if option == 1:\n",
        "        # Ask the user for the stack number and the element they want to add\n",
        "        stack_n = int(input(f\"Which stack do you want to add an element to (0-{n_stacks - 1})? \"))\n",
        "\n",
        "        # Check if the stack number is valid\n",
        "        if stack_n < 0 or stack_n >= n_stacks:\n",
        "            print(f\"Please enter a number between 0 and {n_stacks - 1}.\")\n",
        "            continue\n",
        "\n",
        "        # Ask the user for the element to add as an integer\n",
        "        element = int(input(\"Enter the element you want to add: \"))\n",
        "\n",
        "        # Add the element to the selected stack using the NumPy append() function\n",
        "        stacks[stack_n] = np.append(stacks[stack_n], element)\n",
        "        print(f\"Element {element} added to stack {stack_n}.\")\n",
        "\n",
        "    elif choice == 2:\n",
        "        # Show elements from all stacks combined in a combined array\n",
        "        mix_array = np.concatenate(stacks)\n",
        "        print(\"Elements in all stacks combined:\")\n",
        "        print(mix_array)\n",
        "\n",
        "    elif choice == 3:\n",
        "        # Change the value of the boolean to exit the loop\n",
        "        run = False\n",
        "\n",
        "    else:\n",
        "        print(\"Invalid option. Please select a valid option.\")\n",
        "\n",
        "\n",
        "#Created by Eros Esaú Cárdenas\n",
        "#░░▄▄▄░░▄▄██████▀\n",
        "#░▀▀██░███████▀▀\n",
        "#░▄█▀░███████▀\n",
        "#██▄▄███████████▄▄\n",
        "#▀█████████████▀\n"
      ]
    }
  ],
  "metadata": {
    "colab": {
      "provenance": [],
      "authorship_tag": "ABX9TyOKSdwRqyCjc0mXfQ5pI8Pn",
      "include_colab_link": true
    },
    "kernelspec": {
      "display_name": "Python 3",
      "name": "python3"
    },
    "language_info": {
      "name": "python"
    }
  },
  "nbformat": 4,
  "nbformat_minor": 0
}
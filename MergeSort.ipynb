{
  "nbformat": 4,
  "nbformat_minor": 0,
  "metadata": {
    "colab": {
      "provenance": [],
      "authorship_tag": "ABX9TyM0gjCvFeyIG4ivfXcPqaPt",
      "include_colab_link": true
    },
    "kernelspec": {
      "name": "python3",
      "display_name": "Python 3"
    },
    "language_info": {
      "name": "python"
    }
  },
  "cells": [
    {
      "cell_type": "markdown",
      "metadata": {
        "id": "view-in-github",
        "colab_type": "text"
      },
      "source": [
        "<a href=\"https://colab.research.google.com/github/Eroscardenas/Optimization-umg/blob/main/MergeSort.ipynb\" target=\"_parent\"><img src=\"https://colab.research.google.com/assets/colab-badge.svg\" alt=\"Open In Colab\"/></a>"
      ]
    },
    {
      "cell_type": "code",
      "execution_count": 10,
      "metadata": {
        "colab": {
          "base_uri": "https://localhost:8080/"
        },
        "id": "2Lkc6UdgaxCJ",
        "outputId": "16d6b298-dabf-4bfc-cd9f-5a4d9c86ddec"
      },
      "outputs": [
        {
          "output_type": "stream",
          "name": "stdout",
          "text": [
            "Original Array: [71, 86, 13, 17, 93, 51, 92, 47, 80, 97, 40, 13, 44, 22, 11, 23, 58, 31, 91, 21]\n",
            "Sorted Array: [11, 13, 13, 17, 21, 22, 23, 31, 40, 44, 47, 51, 58, 71, 80, 86, 91, 92, 93, 97]\n"
          ]
        }
      ],
      "source": [
        "#Merge_Sort Algorithm\n",
        "#O(n)\n",
        "#Method outer and steady Divide and Conquer\n",
        "#III.- Simple Steps\n",
        "#I.-  Order the left half\n",
        "#II.- Order the right half\n",
        "#III.- Merge the two parts\n",
        "#code in 𓆕\n",
        "import random. #library to generate random numbers\n",
        "\n",
        "# Define function merge for merging two sorted arrays\n",
        "def merge(arr1, arr2):\n",
        "    # Sublist where we're gonna save the merged and sorted array\n",
        "    result = []\n",
        "    # Index for the arrays\n",
        "    i, j = 0, 0  # i as arr1, j as arr2\n",
        "    while i < len(arr1) and j < len(arr2):\n",
        "        # Compare elements from both arrays and append the smaller one to the result\n",
        "        if arr1[i] < arr2[j]:\n",
        "            result.append(arr1[i])\n",
        "            i += 1\n",
        "        else:\n",
        "            result.append(arr2[j])\n",
        "            j += 1\n",
        "    # If arr1 ends, append the remaining elements of arr2\n",
        "    if i == len(arr1):\n",
        "        for k in range(j, len(arr2)):\n",
        "            result.append(arr2[k])\n",
        "    # If arr2 ends, append the remaining elements of arr1\n",
        "    if j == len(arr2):\n",
        "        for t in range(i, len(arr1)):\n",
        "            result.append(arr1[t])\n",
        "    return result\n",
        "\n",
        "# Define the merge sort algorithm\n",
        "def merge_sort(arr):\n",
        "    # Base case: If the array has 1 or 0 elements, it's considered sorted\n",
        "    if len(arr) < 2:\n",
        "        return arr\n",
        "    else:\n",
        "        #Half should be called middle because in an array of n elements it starts from the beginning to the middle and from middle + 1 to the end\n",
        "        middle = len(arr) // 2\n",
        "        # Recursively split the array into two parts and merge them\n",
        "        arr1 = merge_sort(arr[:middle])\n",
        "        arr2 = merge_sort(arr[middle:])\n",
        "        return merge(arr1, arr2)\n",
        "# Generate a random array of 20 integers between 1 and 100\n",
        "arr = [random.randint(1, 100) for _ in range(20)]\n",
        "# Print the original array\n",
        "print(\"Original Array:\", arr)\n",
        "# Sort the array using merge sort\n",
        "sorted_arr = merge_sort(arr)\n",
        "# Print the sorted array\n",
        "print(\"Sorted Array:\", sorted_arr)\n",
        "\n",
        "#Created by Eros Esaú Cárdenas\n",
        "#░░▄▄▄░░▄▄██████▀\n",
        "#░▀▀██░███████▀▀\n",
        "#░▄█▀░███████▀\n",
        "#██▄▄███████████▄▄\n",
        "#▀█████████████▀\n",
        "\n"
      ]
    }
  ]
}
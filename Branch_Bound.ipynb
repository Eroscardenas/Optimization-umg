{
  "nbformat": 4,
  "nbformat_minor": 0,
  "metadata": {
    "colab": {
      "provenance": [],
      "authorship_tag": "ABX9TyMvNIaJCM57Dka878j9WGqy",
      "include_colab_link": true
    },
    "kernelspec": {
      "name": "python3",
      "display_name": "Python 3"
    },
    "language_info": {
      "name": "python"
    }
  },
  "cells": [
    {
      "cell_type": "markdown",
      "metadata": {
        "id": "view-in-github",
        "colab_type": "text"
      },
      "source": [
        "<a href=\"https://colab.research.google.com/github/Eroscardenas/Optimization-umg/blob/main/Branch_Bound.ipynb\" target=\"_parent\"><img src=\"https://colab.research.google.com/assets/colab-badge.svg\" alt=\"Open In Colab\"/></a>"
      ]
    },
    {
      "cell_type": "markdown",
      "source": [
        "Importamos las bibliotecas necesarias, numpy para manipulación de matrices y copy para realizar copias profundas de objetos."
      ],
      "metadata": {
        "id": "M4TbzvJp49qJ"
      }
    },
    {
      "cell_type": "code",
      "execution_count": null,
      "metadata": {
        "id": "_Zf1SALo4n7Y"
      },
      "outputs": [],
      "source": [
        "import numpy as np\n",
        "import copy"
      ]
    },
    {
      "cell_type": "markdown",
      "source": [
        "La función **reduce_matrix **reduce las filas y columnas de la matriz. Para cada fila, resta el valor mínimo de esa fila de todos los elementos de la fila. Hace lo mismo para cada columna."
      ],
      "metadata": {
        "id": "l2i6CYCv4s5f"
      }
    },
    {
      "cell_type": "code",
      "source": [
        "#funcion para reducir matrix en filas y columnas\n",
        "    def reduce_matrix(matrix):\n",
        "        for row in range(matrix.shape[0]):\n",
        "            min_val = np.min(matrix[row])\n",
        "            matrix[row] -= min_val\n",
        "\n",
        "        for col in range(matrix.shape[1]):\n",
        "            min_val = np.min(matrix[:, col])\n",
        "            matrix[:, col] -= min_val\n",
        "\n",
        "        return matrix\n",
        ""
      ],
      "metadata": {
        "id": "FoCg7sKG4xU5"
      },
      "execution_count": null,
      "outputs": []
    },
    {
      "cell_type": "markdown",
      "source": [
        "\n",
        "La función **calculate_lower_bound** calcula la cota inferior sumando los valores mínimos de cada fila y columna."
      ],
      "metadata": {
        "id": "0yFHWkhC48f9"
      }
    },
    {
      "cell_type": "code",
      "source": [
        "\n",
        "    def calculate_lower_bound(matrix):\n",
        "        lower_bound = 0\n",
        "        for row in range(matrix.shape[0]):\n",
        "            lower_bound += np.min(matrix[row])\n",
        "\n",
        "        for col in range(matrix.shape[1]):\n",
        "            lower_bound += np.min(matrix[:, col])\n",
        "\n",
        "        return lower_bound / 2"
      ],
      "metadata": {
        "id": "0fzS5a0q49Oi"
      },
      "execution_count": null,
      "outputs": []
    },
    {
      "cell_type": "markdown",
      "source": [
        "La función **branch_and_bound ** empieza a realizar la recursión del algoritmo. Si todas las ciudades han sido visitadas, se agrega el costo de regresar a la ciudad inicial y se actualiza la mejor solución si es necesario. Luego, para cada ciudad no visitada, se crea una ramificación en el árbol de búsqueda, excluyendo esa ciudad y actualizando la matriz."
      ],
      "metadata": {
        "id": "57v_5Ial5JSW"
      }
    },
    {
      "cell_type": "code",
      "source": [
        "def branch_and_bound(matrix, path, bound, cost, min_cost_path):\n",
        "        large_value = cost_matrix.shape[0] + 1\n",
        "        if len(path) == matrix.shape[0]:\n",
        "            cost += matrix[path[-1], path[0]]\n",
        "            if cost < min_cost_path['cost']:\n",
        "                min_cost_path['path'] = path.copy()\n",
        "                min_cost_path['cost'] = cost\n",
        "            return\n",
        "\n",
        "        for city in range(matrix.shape[0]):\n",
        "            if city not in path:\n",
        "                bound_copy = copy.deepcopy(bound)\n",
        "                matrix_copy = copy.deepcopy(matrix)\n",
        "                path_copy = path.copy()\n",
        "\n",
        "                matrix_copy[path[-1], city] = large_value\n",
        "                matrix_copy[:, city] = large_value\n",
        "                bound_copy += int(matrix[path[-1], city])\n",
        "\n",
        "                matrix_copy = reduce_matrix(matrix_copy)\n",
        "                bound_copy += calculate_lower_bound(matrix_copy)\n",
        "\n",
        "                if bound_copy < min_cost_path['cost']:\n",
        "                    path_copy.append(city)\n",
        "                    branch_and_bound(matrix_copy, path_copy, bound_copy, cost + matrix[path[-1], city], min_cost_path)\n",
        ""
      ],
      "metadata": {
        "id": "G8LQ11J75OXb"
      },
      "execution_count": null,
      "outputs": []
    },
    {
      "cell_type": "markdown",
      "source": [
        " inicializan las variables necesarias y comenzamos a implementar el algoritmo llamando a la función **branch_and_bound **con la matriz reducida.\n",
        "\n"
      ],
      "metadata": {
        "id": "XBxSRt725QrU"
      }
    },
    {
      "cell_type": "code",
      "source": [
        "\n",
        "def tsp_branch_and_bound(cost_matrix):\n",
        "    large_value = cost_matrix.shape[0] + 1\n",
        "    np.fill_diagonal(cost_matrix, large_value)\n",
        "\n",
        "    n = cost_matrix.shape[0]\n",
        "    path = [0]\n",
        "    bound = 0\n",
        "    cost = 0\n",
        "    min_cost_path = {'path': [], 'cost': np.inf}\n",
        "\n",
        "    reduced_matrix = reduce_matrix(cost_matrix)\n",
        "    bound += int(calculate_lower_bound(reduced_matrix))\n",
        "\n",
        "    branch_and_bound(reduced_matrix, path, bound, cost, min_cost_path)\n",
        "\n",
        "    return min_cost_path"
      ],
      "metadata": {
        "id": "6vUeoJ5i5TQX"
      },
      "execution_count": null,
      "outputs": []
    },
    {
      "cell_type": "code",
      "source": [
        "#Ejemplo de Uso\n",
        "cost_matrix = np.array([\n",
        "    [12, 56, 8],\n",
        "    [74, 93, 26],\n",
        "    [49, 61, 32]\n",
        "])\n",
        "\n",
        "result = tsp_branch_and_bound(cost_matrix)\n",
        "print(\"Optimal Path:\", result['path'])\n",
        "print(\"Minimum Cost:\", result['cost'])\n",
        "\n",
        "\n",
        "\n",
        "#Created by Eros Esaú Cárdenas\n",
        "#░░▄▄▄░░▄▄██████▀\n",
        "#░▀▀██░███████▀▀\n",
        "#░▄█▀░███████▀\n",
        "#██▄▄███████████▄▄\n",
        "#▀█████████████▀\n",
        "\n"
      ],
      "metadata": {
        "id": "GByI9vSX5YN5"
      },
      "execution_count": null,
      "outputs": []
    }
  ]
}